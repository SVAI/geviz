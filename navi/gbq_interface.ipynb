{
 "cells": [
  {
   "cell_type": "code",
   "execution_count": 1,
   "metadata": {},
   "outputs": [],
   "source": [
    "# My Datalab instance came with an older version and pre 1.0 releases\n",
    "# are not necessarily backwards compatible.\n",
    "# !pip install google-cloud-bigquery==0.30"
   ]
  },
  {
   "cell_type": "code",
   "execution_count": 2,
   "metadata": {},
   "outputs": [],
   "source": [
    "from google.cloud import bigquery as bq"
   ]
  },
  {
   "cell_type": "markdown",
   "metadata": {},
   "source": [
    "## Google Big Query Experiments"
   ]
  },
  {
   "cell_type": "code",
   "execution_count": 3,
   "metadata": {},
   "outputs": [],
   "source": [
    "import os\n",
    "os.environ[\"GOOGLE_APPLICATION_CREDENTIALS\"] = \"/Users/ntansaraviput/workspace/ml/p2rcc/navi/credentials/.google-cloud.json\""
   ]
  },
  {
   "cell_type": "code",
   "execution_count": 4,
   "metadata": {},
   "outputs": [],
   "source": [
    "client = bq.Client()\n",
    "dataset_ref = client.dataset('tcga_201607_beta', project='isb-cgc')"
   ]
  },
  {
   "cell_type": "code",
   "execution_count": 5,
   "metadata": {},
   "outputs": [
    {
     "name": "stdout",
     "output_type": "stream",
     "text": [
      "6322 1729204 Annotations\n",
      "23797 6382147 Biospecimen_data\n",
      "11160 4201379 Clinical_data\n",
      "2646095 333774244 Copy_Number_segments\n",
      "3944304319 445303830985 DNA_Methylation_betas\n",
      "382335670 43164264006 DNA_Methylation_chr1\n",
      "197519895 22301345198 DNA_Methylation_chr10\n",
      "235823572 26623975945 DNA_Methylation_chr11\n",
      "198050739 22359642619 DNA_Methylation_chr12\n",
      "97301675 10986815862 DNA_Methylation_chr13\n",
      "123239379 13913712352 DNA_Methylation_chr14\n",
      "124566185 14064712239 DNA_Methylation_chr15\n",
      "179772812 20296128173 DNA_Methylation_chr16\n",
      "234003341 26417830751 DNA_Methylation_chr17\n",
      "50216619 5669139362 DNA_Methylation_chr18\n",
      "211386795 23862583107 DNA_Methylation_chr19\n",
      "279668485 31577200462 DNA_Methylation_chr2\n",
      "86858120 9805923353 DNA_Methylation_chr20\n",
      "35410447 3997986812 DNA_Methylation_chr21\n",
      "70676468 7978947938 DNA_Methylation_chr22\n",
      "201119616 22705358910 DNA_Methylation_chr3\n",
      "159148744 17968482285 DNA_Methylation_chr4\n",
      "195864180 22113162401 DNA_Methylation_chr5\n",
      "290275524 32772371379 DNA_Methylation_chr6\n",
      "240010275 27097948808 DNA_Methylation_chr7\n",
      "164810092 18607886221 DNA_Methylation_chr8\n",
      "81260723 9173717922 DNA_Methylation_chr9\n",
      "98082681 11072059468 DNA_Methylation_chrX\n",
      "2330426 263109775 DNA_Methylation_chrY\n",
      "1867233 207365611 Protein_RPPA_data\n",
      "5356089 5715538107 Somatic_Mutation_calls\n",
      "5738048 657855993 mRNA_BCGSC_GA_RPKM\n",
      "38299138 4459086535 mRNA_BCGSC_HiSeq_RPKM\n",
      "16794358 1934755686 mRNA_UNC_GA_RSEM\n",
      "211284521 24942992190 mRNA_UNC_HiSeq_RSEM\n",
      "228078879 26877747876 mRNA_UNC_RSEM\n",
      "943447 107533176 miRNA_BCGSC_GA_EXPR_GroupedByMIMAT\n",
      "6007080 1003468666 miRNA_BCGSC_GA_isoform\n",
      "2614260 306210930 miRNA_BCGSC_GA_mirna\n",
      "738920 84104348 miRNA_BCGSC_GA_mirna3\n",
      "46543230 7901172305 miRNA_BCGSC_HiSeq_isoform\n",
      "16022160 1922031900 miRNA_BCGSC_HiSeq_mirna\n",
      "6180663 721224250 miRNA_BCGSC_HiSeq_mirna3\n",
      "13226928 1613843246 miRNA_Expression\n"
     ]
    }
   ],
   "source": [
    "for t in client.list_tables(dataset_ref):\n",
    "  table_ref = dataset_ref.table(t.table_id)\n",
    "  table = client.get_table(table_ref)\n",
    "  print (table.num_rows, table.num_bytes, t.table_id)"
   ]
  },
  {
   "cell_type": "code",
   "execution_count": null,
   "metadata": {},
   "outputs": [],
   "source": [
    "query = client.query(\"select * from `isb-cgc.tcga_201607_beta.Clinical_data` limit 5\")\n",
    "results = query.result()\n",
    "for row in results:\n",
    "  print(row)"
   ]
  },
  {
   "cell_type": "markdown",
   "metadata": {},
   "source": [
    "# Gene Expression"
   ]
  },
  {
   "cell_type": "code",
   "execution_count": 6,
   "metadata": {},
   "outputs": [],
   "source": [
    "%matplotlib inline"
   ]
  },
  {
   "cell_type": "code",
   "execution_count": 7,
   "metadata": {},
   "outputs": [],
   "source": [
    "import numpy as np\n",
    "import pandas as pd\n",
    "from scipy import stats, integrate\n",
    "import matplotlib.pyplot as plt\n",
    "import seaborn as sns\n",
    "sns.set(color_codes=True)\n",
    "# sns.set_style(\"whitegrid\")"
   ]
  },
  {
   "cell_type": "markdown",
   "metadata": {},
   "source": [
    "## Data Preparation"
   ]
  },
  {
   "cell_type": "code",
   "execution_count": 9,
   "metadata": {},
   "outputs": [],
   "source": [
    "import json\n",
    "credentials_path = \"credentials/.google-cloud.json\"\n",
    "\n",
    "with open(credentials_path) as f:\n",
    "    credentials = json.load(f)\n",
    "    project_id = credentials['project_id']"
   ]
  },
  {
   "cell_type": "code",
   "execution_count": 19,
   "metadata": {},
   "outputs": [],
   "source": [
    "# df = pd.read_gbq(\"select * from `isb-cgc.tcga_201607_beta.Clinical_data` limit 5\", project_id, dialect='standard')\n",
    "q = \"SELECT ParticipantBarcode, original_gene_symbol, normalized_count FROM `tcga_201607_beta.mRNA_KIRP`\"\n",
    "df = pd.read_gbq(q, project_id, dialect='standard')"
   ]
  },
  {
   "cell_type": "code",
   "execution_count": 64,
   "metadata": {},
   "outputs": [],
   "source": [
    "df = df.dropna().drop_duplicates(subset=['ParticipantBarcode', 'original_gene_symbol'], keep=False)\n",
    "genes = df.original_gene_symbol.unique()"
   ]
  },
  {
   "cell_type": "markdown",
   "metadata": {},
   "source": [
    "## Visualization"
   ]
  },
  {
   "cell_type": "code",
   "execution_count": 10,
   "metadata": {
    "scrolled": true
   },
   "outputs": [],
   "source": [
    "GENE = 'TTN'"
   ]
  },
  {
   "cell_type": "code",
   "execution_count": 12,
   "metadata": {},
   "outputs": [],
   "source": [
    "gdf = df.loc[df['original_gene_symbol'] == GENE]"
   ]
  },
  {
   "cell_type": "code",
   "execution_count": 13,
   "metadata": {
    "scrolled": true
   },
   "outputs": [
    {
     "data": {
      "text/plain": [
       "[[]]"
      ]
     },
     "execution_count": 13,
     "metadata": {},
     "output_type": "execute_result"
    },
    {
     "data": {
      "image/png": "[encoded data removed]",
      "text/plain": [
       "<matplotlib.figure.Figure at 0x1a15668b38>"
      ]
     },
     "metadata": {},
     "output_type": "display_data"
    }
   ],
   "source": [
    "ax = sns.barplot(x=\"ParticipantBarcode\", y=\"normalized_count\", data=gdf)\n",
    "ax.set(xticklabels=[])"
   ]
  },
  {
   "cell_type": "code",
   "execution_count": null,
   "metadata": {},
   "outputs": [],
   "source": [
    "gene_pairs = [0]*int(len(genes)*(len(genes)-1)/2)\n",
    "corr = [0]*int(len(genes)*(len(genes)-1)/2)\n",
    "\n",
    "count = 0\n",
    "for i in range(len(genes)-2):\n",
    "    g1 = df.loc[df['original_gene_symbol'] == genes[i]].set_index('ParticipantBarcode')\n",
    "    for j in range(i+1, len(genes)):\n",
    "        g2 = df.loc[df['original_gene_symbol'] == genes[j]].set_index('ParticipantBarcode')\n",
    "        g1g2 = g1.join(g2, rsuffix='2')\n",
    "        gene_pairs[count] = (i,j)\n",
    "        corr[count] = g1g2['normalized_count'].corr(g1g2['normalized_count2'])\n",
    "        count += 1"
   ]
  },
  {
   "cell_type": "code",
   "execution_count": 48,
   "metadata": {},
   "outputs": [],
   "source": [
    "g1 = df.loc[df['original_gene_symbol'] == 'TTN'][['ParticipantBarcode', 'normalized_count']].set_index('ParticipantBarcode')\n",
    "g2 = df.loc[df['original_gene_symbol'] == 'EDN1'][['ParticipantBarcode', 'normalized_count']].set_index('ParticipantBarcode')"
   ]
  },
  {
   "cell_type": "code",
   "execution_count": 49,
   "metadata": {},
   "outputs": [
    {
     "data": {
      "text/plain": [
       "0.008742275511259626"
      ]
     },
     "execution_count": 49,
     "metadata": {},
     "output_type": "execute_result"
    }
   ],
   "source": [
    "g1g2 = g1.join(g2, rsuffix='2')\n",
    "g1g2['normalized_count'].corr(g1g2['normalized_count2'])"
   ]
  },
  {
   "cell_type": "code",
   "execution_count": null,
   "metadata": {},
   "outputs": [],
   "source": [
    "corr"
   ]
  },
  {
   "cell_type": "code",
   "execution_count": null,
   "metadata": {},
   "outputs": [],
   "source": []
  },
  {
   "cell_type": "code",
   "execution_count": null,
   "metadata": {},
   "outputs": [],
   "source": []
  }
 ],
 "metadata": {
  "kernelspec": {
   "display_name": "Python 3",
   "language": "python",
   "name": "python3"
  },
  "language_info": {
   "codemirror_mode": {
    "name": "ipython",
    "version": 3
   },
   "file_extension": ".py",
   "mimetype": "text/x-python",
   "name": "python",
   "nbconvert_exporter": "python",
   "pygments_lexer": "ipython3",
   "version": "3.6.4"
  }
 },
 "nbformat": 4,
 "nbformat_minor": 2
}

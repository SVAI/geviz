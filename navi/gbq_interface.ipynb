{
 "cells": [
  {
   "cell_type": "code",
   "execution_count": 1,
   "metadata": {},
   "outputs": [],
   "source": [
    "# My Datalab instance came with an older version and pre 1.0 releases\n",
    "# are not necessarily backwards compatible.\n",
    "# !pip install google-cloud-bigquery==0.30"
   ]
  },
  {
   "cell_type": "code",
   "execution_count": 2,
   "metadata": {},
   "outputs": [],
   "source": [
    "from google.cloud import bigquery as bq"
   ]
  },
  {
   "cell_type": "code",
   "execution_count": 3,
   "metadata": {},
   "outputs": [],
   "source": [
    "import os\n",
    "os.environ[\"GOOGLE_APPLICATION_CREDENTIALS\"] = \"/Users/ntansaraviput/workspace/ml/p2rcc/navi/credentials/.google-cloud.json\""
   ]
  },
  {
   "cell_type": "code",
   "execution_count": 4,
   "metadata": {},
   "outputs": [],
   "source": [
    "client = bq.Client()\n",
    "dataset_ref = client.dataset('tcga_201607_beta', project='isb-cgc')"
   ]
  },
  {
   "cell_type": "code",
   "execution_count": 5,
   "metadata": {},
   "outputs": [
    {
     "name": "stdout",
     "output_type": "stream",
     "text": [
      "6322 1729204 Annotations\n",
      "23797 6382147 Biospecimen_data\n",
      "11160 4201379 Clinical_data\n",
      "2646095 333774244 Copy_Number_segments\n",
      "3944304319 445303830985 DNA_Methylation_betas\n",
      "382335670 43164264006 DNA_Methylation_chr1\n",
      "197519895 22301345198 DNA_Methylation_chr10\n",
      "235823572 26623975945 DNA_Methylation_chr11\n",
      "198050739 22359642619 DNA_Methylation_chr12\n",
      "97301675 10986815862 DNA_Methylation_chr13\n",
      "123239379 13913712352 DNA_Methylation_chr14\n",
      "124566185 14064712239 DNA_Methylation_chr15\n",
      "179772812 20296128173 DNA_Methylation_chr16\n",
      "234003341 26417830751 DNA_Methylation_chr17\n",
      "50216619 5669139362 DNA_Methylation_chr18\n",
      "211386795 23862583107 DNA_Methylation_chr19\n",
      "279668485 31577200462 DNA_Methylation_chr2\n",
      "86858120 9805923353 DNA_Methylation_chr20\n",
      "35410447 3997986812 DNA_Methylation_chr21\n",
      "70676468 7978947938 DNA_Methylation_chr22\n",
      "201119616 22705358910 DNA_Methylation_chr3\n",
      "159148744 17968482285 DNA_Methylation_chr4\n",
      "195864180 22113162401 DNA_Methylation_chr5\n",
      "290275524 32772371379 DNA_Methylation_chr6\n",
      "240010275 27097948808 DNA_Methylation_chr7\n",
      "164810092 18607886221 DNA_Methylation_chr8\n",
      "81260723 9173717922 DNA_Methylation_chr9\n",
      "98082681 11072059468 DNA_Methylation_chrX\n",
      "2330426 263109775 DNA_Methylation_chrY\n",
      "1867233 207365611 Protein_RPPA_data\n",
      "5356089 5715538107 Somatic_Mutation_calls\n",
      "5738048 657855993 mRNA_BCGSC_GA_RPKM\n",
      "38299138 4459086535 mRNA_BCGSC_HiSeq_RPKM\n",
      "16794358 1934755686 mRNA_UNC_GA_RSEM\n",
      "211284521 24942992190 mRNA_UNC_HiSeq_RSEM\n",
      "228078879 26877747876 mRNA_UNC_RSEM\n",
      "943447 107533176 miRNA_BCGSC_GA_EXPR_GroupedByMIMAT\n",
      "6007080 1003468666 miRNA_BCGSC_GA_isoform\n",
      "2614260 306210930 miRNA_BCGSC_GA_mirna\n",
      "738920 84104348 miRNA_BCGSC_GA_mirna3\n",
      "46543230 7901172305 miRNA_BCGSC_HiSeq_isoform\n",
      "16022160 1922031900 miRNA_BCGSC_HiSeq_mirna\n",
      "6180663 721224250 miRNA_BCGSC_HiSeq_mirna3\n",
      "13226928 1613843246 miRNA_Expression\n"
     ]
    }
   ],
   "source": [
    "for t in client.list_tables(dataset_ref):\n",
    "  table_ref = dataset_ref.table(t.table_id)\n",
    "  table = client.get_table(table_ref)\n",
    "  print (table.num_rows, table.num_bytes, t.table_id)"
   ]
  },
  {
   "cell_type": "code",
   "execution_count": 6,
   "metadata": {},
   "outputs": [],
   "source": [
    "%matplotlib inline"
   ]
  },
  {
   "cell_type": "code",
   "execution_count": 7,
   "metadata": {},
   "outputs": [],
   "source": [
    "import numpy as np\n",
    "import pandas as pd\n",
    "from scipy import stats, integrate\n",
    "import matplotlib.pyplot as plt\n",
    "import seaborn as sns\n",
    "sns.set(color_codes=True)\n",
    "# sns.set_style(\"whitegrid\")"
   ]
  },
  {
   "cell_type": "code",
   "execution_count": 8,
   "metadata": {},
   "outputs": [
    {
     "data": {
      "image/png": "[encoded data removed]",
      "text/plain": [
       "<matplotlib.figure.Figure at 0x1a0c1a6da0>"
      ]
     },
     "metadata": {},
     "output_type": "display_data"
    }
   ],
   "source": [
    "tips = sns.load_dataset(\"tips\")\n",
    "ax = sns.barplot(x=\"day\", y=\"total_bill\", data=tips)"
   ]
  },
  {
   "cell_type": "code",
   "execution_count": 20,
   "metadata": {},
   "outputs": [],
   "source": [
    "import json\n",
    "credentials_path = \"credentials/.google-cloud.json\"\n",
    "\n",
    "with open(credentials_path) as f:\n",
    "    credentials = json.load(f)\n",
    "    project_id = credentials['project_id']"
   ]
  },
  {
   "cell_type": "code",
   "execution_count": 22,
   "metadata": {
    "scrolled": true
   },
   "outputs": [
    {
     "name": "stdout",
     "output_type": "stream",
     "text": [
      "This is all about TTN\n"
     ]
    }
   ],
   "source": [
    "GENE = 'TTN'"
   ]
  },
  {
   "cell_type": "code",
   "execution_count": 42,
   "metadata": {},
   "outputs": [
    {
     "data": {
      "text/plain": [
       "[[]]"
      ]
     },
     "execution_count": 42,
     "metadata": {},
     "output_type": "execute_result"
    },
    {
     "data": {
      "image/png": "[encoded data removed]",
      "text/plain": [
       "<matplotlib.figure.Figure at 0x1a164be2e8>"
      ]
     },
     "metadata": {},
     "output_type": "display_data"
    }
   ],
   "source": [
    "df = pd.read_gbq(f\"SELECT ParticipantBarcode, normalized_count FROM `tcga_201607_beta.mRNA_KIRP` WHERE original_gene_symbol='{GENE}' OR HGNC_gene_symbol='{GENE}' ORDER BY normalized_count\", project_id, dialect='standard')\n",
    "ax = sns.barplot(x=\"ParticipantBarcode\", y=\"normalized_count\", data=df)\n",
    "ax.set(xticklabels=[])\n"
   ]
  },
  {
   "cell_type": "code",
   "execution_count": 23,
   "metadata": {},
   "outputs": [
    {
     "ename": "GenericGBQException",
     "evalue": "Reason: 400 Unrecognized name: original_gene_symbol at [1:97]",
     "output_type": "error",
     "traceback": [
      "\u001b[0;31m---------------------------------------------------------------------------\u001b[0m",
      "\u001b[0;31mBadRequest\u001b[0m                                Traceback (most recent call last)",
      "\u001b[0;32m/usr/local/anaconda3/lib/python3.6/site-packages/pandas_gbq/gbq.py\u001b[0m in \u001b[0;36mrun_query\u001b[0;34m(self, query, **kwargs)\u001b[0m\n\u001b[1;32m    535\u001b[0m         \u001b[0;32mtry\u001b[0m\u001b[0;34m:\u001b[0m\u001b[0;34m\u001b[0m\u001b[0m\n\u001b[0;32m--> 536\u001b[0;31m             \u001b[0mrows_iter\u001b[0m \u001b[0;34m=\u001b[0m \u001b[0mquery_reply\u001b[0m\u001b[0;34m.\u001b[0m\u001b[0mresult\u001b[0m\u001b[0;34m(\u001b[0m\u001b[0;34m)\u001b[0m\u001b[0;34m\u001b[0m\u001b[0m\n\u001b[0m\u001b[1;32m    537\u001b[0m         \u001b[0;32mexcept\u001b[0m \u001b[0mself\u001b[0m\u001b[0;34m.\u001b[0m\u001b[0mhttp_error\u001b[0m \u001b[0;32mas\u001b[0m \u001b[0mex\u001b[0m\u001b[0;34m:\u001b[0m\u001b[0;34m\u001b[0m\u001b[0m\n",
      "\u001b[0;32m/usr/local/anaconda3/lib/python3.6/site-packages/google/cloud/bigquery/job.py\u001b[0m in \u001b[0;36mresult\u001b[0;34m(self, timeout, retry)\u001b[0m\n\u001b[1;32m   1934\u001b[0m         \"\"\"\n\u001b[0;32m-> 1935\u001b[0;31m         \u001b[0msuper\u001b[0m\u001b[0;34m(\u001b[0m\u001b[0mQueryJob\u001b[0m\u001b[0;34m,\u001b[0m \u001b[0mself\u001b[0m\u001b[0;34m)\u001b[0m\u001b[0;34m.\u001b[0m\u001b[0mresult\u001b[0m\u001b[0;34m(\u001b[0m\u001b[0mtimeout\u001b[0m\u001b[0;34m=\u001b[0m\u001b[0mtimeout\u001b[0m\u001b[0;34m)\u001b[0m\u001b[0;34m\u001b[0m\u001b[0m\n\u001b[0m\u001b[1;32m   1936\u001b[0m         \u001b[0;31m# Return an iterator instead of returning the job.\u001b[0m\u001b[0;34m\u001b[0m\u001b[0;34m\u001b[0m\u001b[0m\n",
      "\u001b[0;32m/usr/local/anaconda3/lib/python3.6/site-packages/google/cloud/bigquery/job.py\u001b[0m in \u001b[0;36mresult\u001b[0;34m(self, timeout)\u001b[0m\n\u001b[1;32m    527\u001b[0m         \u001b[0;31m# TODO: modify PollingFuture so it can pass a retry argument to done().\u001b[0m\u001b[0;34m\u001b[0m\u001b[0;34m\u001b[0m\u001b[0m\n\u001b[0;32m--> 528\u001b[0;31m         \u001b[0;32mreturn\u001b[0m \u001b[0msuper\u001b[0m\u001b[0;34m(\u001b[0m\u001b[0m_AsyncJob\u001b[0m\u001b[0;34m,\u001b[0m \u001b[0mself\u001b[0m\u001b[0;34m)\u001b[0m\u001b[0;34m.\u001b[0m\u001b[0mresult\u001b[0m\u001b[0;34m(\u001b[0m\u001b[0mtimeout\u001b[0m\u001b[0;34m=\u001b[0m\u001b[0mtimeout\u001b[0m\u001b[0;34m)\u001b[0m\u001b[0;34m\u001b[0m\u001b[0m\n\u001b[0m\u001b[1;32m    529\u001b[0m \u001b[0;34m\u001b[0m\u001b[0m\n",
      "\u001b[0;32m/usr/local/anaconda3/lib/python3.6/site-packages/google/api_core/future/polling.py\u001b[0m in \u001b[0;36mresult\u001b[0;34m(self, timeout)\u001b[0m\n\u001b[1;32m    110\u001b[0m             \u001b[0;31m# Pylint doesn't recognize that this is valid in this case.\u001b[0m\u001b[0;34m\u001b[0m\u001b[0;34m\u001b[0m\u001b[0m\n\u001b[0;32m--> 111\u001b[0;31m             \u001b[0;32mraise\u001b[0m \u001b[0mself\u001b[0m\u001b[0;34m.\u001b[0m\u001b[0m_exception\u001b[0m\u001b[0;34m\u001b[0m\u001b[0m\n\u001b[0m\u001b[1;32m    112\u001b[0m \u001b[0;34m\u001b[0m\u001b[0m\n",
      "\u001b[0;31mBadRequest\u001b[0m: 400 Unrecognized name: original_gene_symbol at [1:97]",
      "\nDuring handling of the above exception, another exception occurred:\n",
      "\u001b[0;31mGenericGBQException\u001b[0m                       Traceback (most recent call last)",
      "\u001b[0;32m<ipython-input-23-86e284c2c4a5>\u001b[0m in \u001b[0;36m<module>\u001b[0;34m()\u001b[0m\n\u001b[0;32m----> 1\u001b[0;31m \u001b[0mdf\u001b[0m \u001b[0;34m=\u001b[0m \u001b[0mpd\u001b[0m\u001b[0;34m.\u001b[0m\u001b[0mread_gbq\u001b[0m\u001b[0;34m(\u001b[0m\u001b[0;34mf'SELECT ParticipantBarcode, normalized_count FROM `isb-cgc.tcga_201607_beta.Clinical_data` WHERE original_gene_symbol={GENE} OR HGNC_gene_symbol={GENE}'\u001b[0m\u001b[0;34m,\u001b[0m \u001b[0mproject_id\u001b[0m\u001b[0;34m,\u001b[0m \u001b[0mdialect\u001b[0m\u001b[0;34m=\u001b[0m\u001b[0;34m'standard'\u001b[0m\u001b[0;34m)\u001b[0m\u001b[0;34m\u001b[0m\u001b[0m\n\u001b[0m\u001b[1;32m      2\u001b[0m \u001b[0max\u001b[0m \u001b[0;34m=\u001b[0m \u001b[0msns\u001b[0m\u001b[0;34m.\u001b[0m\u001b[0mbarplot\u001b[0m\u001b[0;34m(\u001b[0m\u001b[0mx\u001b[0m\u001b[0;34m=\u001b[0m\u001b[0;34m\"ParticipantBarcode\"\u001b[0m\u001b[0;34m,\u001b[0m \u001b[0my\u001b[0m\u001b[0;34m=\u001b[0m\u001b[0;34m\"normalized_count\"\u001b[0m\u001b[0;34m,\u001b[0m \u001b[0mdata\u001b[0m\u001b[0;34m=\u001b[0m\u001b[0mdf\u001b[0m\u001b[0;34m)\u001b[0m\u001b[0;34m\u001b[0m\u001b[0m\n",
      "\u001b[0;32m/usr/local/anaconda3/lib/python3.6/site-packages/pandas/io/gbq.py\u001b[0m in \u001b[0;36mread_gbq\u001b[0;34m(query, project_id, index_col, col_order, reauth, verbose, private_key, dialect, **kwargs)\u001b[0m\n\u001b[1;32m     97\u001b[0m         \u001b[0mprivate_key\u001b[0m\u001b[0;34m=\u001b[0m\u001b[0mprivate_key\u001b[0m\u001b[0;34m,\u001b[0m\u001b[0;34m\u001b[0m\u001b[0m\n\u001b[1;32m     98\u001b[0m         \u001b[0mdialect\u001b[0m\u001b[0;34m=\u001b[0m\u001b[0mdialect\u001b[0m\u001b[0;34m,\u001b[0m\u001b[0;34m\u001b[0m\u001b[0m\n\u001b[0;32m---> 99\u001b[0;31m         **kwargs)\n\u001b[0m\u001b[1;32m    100\u001b[0m \u001b[0;34m\u001b[0m\u001b[0m\n\u001b[1;32m    101\u001b[0m \u001b[0;34m\u001b[0m\u001b[0m\n",
      "\u001b[0;32m/usr/local/anaconda3/lib/python3.6/site-packages/pandas_gbq/gbq.py\u001b[0m in \u001b[0;36mread_gbq\u001b[0;34m(query, project_id, index_col, col_order, reauth, verbose, private_key, auth_local_webserver, dialect, **kwargs)\u001b[0m\n\u001b[1;32m    819\u001b[0m         \u001b[0mproject_id\u001b[0m\u001b[0;34m,\u001b[0m \u001b[0mreauth\u001b[0m\u001b[0;34m=\u001b[0m\u001b[0mreauth\u001b[0m\u001b[0;34m,\u001b[0m \u001b[0mprivate_key\u001b[0m\u001b[0;34m=\u001b[0m\u001b[0mprivate_key\u001b[0m\u001b[0;34m,\u001b[0m\u001b[0;34m\u001b[0m\u001b[0m\n\u001b[1;32m    820\u001b[0m         dialect=dialect, auth_local_webserver=auth_local_webserver)\n\u001b[0;32m--> 821\u001b[0;31m     \u001b[0mschema\u001b[0m\u001b[0;34m,\u001b[0m \u001b[0mrows\u001b[0m \u001b[0;34m=\u001b[0m \u001b[0mconnector\u001b[0m\u001b[0;34m.\u001b[0m\u001b[0mrun_query\u001b[0m\u001b[0;34m(\u001b[0m\u001b[0mquery\u001b[0m\u001b[0;34m,\u001b[0m \u001b[0;34m**\u001b[0m\u001b[0mkwargs\u001b[0m\u001b[0;34m)\u001b[0m\u001b[0;34m\u001b[0m\u001b[0m\n\u001b[0m\u001b[1;32m    822\u001b[0m     \u001b[0mfinal_df\u001b[0m \u001b[0;34m=\u001b[0m \u001b[0m_parse_data\u001b[0m\u001b[0;34m(\u001b[0m\u001b[0mschema\u001b[0m\u001b[0;34m,\u001b[0m \u001b[0mrows\u001b[0m\u001b[0;34m)\u001b[0m\u001b[0;34m\u001b[0m\u001b[0m\n\u001b[1;32m    823\u001b[0m \u001b[0;34m\u001b[0m\u001b[0m\n",
      "\u001b[0;32m/usr/local/anaconda3/lib/python3.6/site-packages/pandas_gbq/gbq.py\u001b[0m in \u001b[0;36mrun_query\u001b[0;34m(self, query, **kwargs)\u001b[0m\n\u001b[1;32m    536\u001b[0m             \u001b[0mrows_iter\u001b[0m \u001b[0;34m=\u001b[0m \u001b[0mquery_reply\u001b[0m\u001b[0;34m.\u001b[0m\u001b[0mresult\u001b[0m\u001b[0;34m(\u001b[0m\u001b[0;34m)\u001b[0m\u001b[0;34m\u001b[0m\u001b[0m\n\u001b[1;32m    537\u001b[0m         \u001b[0;32mexcept\u001b[0m \u001b[0mself\u001b[0m\u001b[0;34m.\u001b[0m\u001b[0mhttp_error\u001b[0m \u001b[0;32mas\u001b[0m \u001b[0mex\u001b[0m\u001b[0;34m:\u001b[0m\u001b[0;34m\u001b[0m\u001b[0m\n\u001b[0;32m--> 538\u001b[0;31m             \u001b[0mself\u001b[0m\u001b[0;34m.\u001b[0m\u001b[0mprocess_http_error\u001b[0m\u001b[0;34m(\u001b[0m\u001b[0mex\u001b[0m\u001b[0;34m)\u001b[0m\u001b[0;34m\u001b[0m\u001b[0m\n\u001b[0m\u001b[1;32m    539\u001b[0m         \u001b[0mresult_rows\u001b[0m \u001b[0;34m=\u001b[0m \u001b[0mlist\u001b[0m\u001b[0;34m(\u001b[0m\u001b[0mrows_iter\u001b[0m\u001b[0;34m)\u001b[0m\u001b[0;34m\u001b[0m\u001b[0m\n\u001b[1;32m    540\u001b[0m         \u001b[0mtotal_rows\u001b[0m \u001b[0;34m=\u001b[0m \u001b[0mrows_iter\u001b[0m\u001b[0;34m.\u001b[0m\u001b[0mtotal_rows\u001b[0m\u001b[0;34m\u001b[0m\u001b[0m\n",
      "\u001b[0;32m/usr/local/anaconda3/lib/python3.6/site-packages/pandas_gbq/gbq.py\u001b[0m in \u001b[0;36mprocess_http_error\u001b[0;34m(ex)\u001b[0m\n\u001b[1;32m    454\u001b[0m         \u001b[0;31m# <https://cloud.google.com/bigquery/troubleshooting-errors>`__\u001b[0m\u001b[0;34m\u001b[0m\u001b[0;34m\u001b[0m\u001b[0m\n\u001b[1;32m    455\u001b[0m \u001b[0;34m\u001b[0m\u001b[0m\n\u001b[0;32m--> 456\u001b[0;31m         \u001b[0;32mraise\u001b[0m \u001b[0mGenericGBQException\u001b[0m\u001b[0;34m(\u001b[0m\u001b[0;34m\"Reason: {0}\"\u001b[0m\u001b[0;34m.\u001b[0m\u001b[0mformat\u001b[0m\u001b[0;34m(\u001b[0m\u001b[0mex\u001b[0m\u001b[0;34m)\u001b[0m\u001b[0;34m)\u001b[0m\u001b[0;34m\u001b[0m\u001b[0m\n\u001b[0m\u001b[1;32m    457\u001b[0m \u001b[0;34m\u001b[0m\u001b[0m\n\u001b[1;32m    458\u001b[0m     \u001b[0;32mdef\u001b[0m \u001b[0mrun_query\u001b[0m\u001b[0;34m(\u001b[0m\u001b[0mself\u001b[0m\u001b[0;34m,\u001b[0m \u001b[0mquery\u001b[0m\u001b[0;34m,\u001b[0m \u001b[0;34m**\u001b[0m\u001b[0mkwargs\u001b[0m\u001b[0;34m)\u001b[0m\u001b[0;34m:\u001b[0m\u001b[0;34m\u001b[0m\u001b[0m\n",
      "\u001b[0;31mGenericGBQException\u001b[0m: Reason: 400 Unrecognized name: original_gene_symbol at [1:97]"
     ]
    }
   ],
   "source": [
    "df = pd.read_gbq(f'SELECT ParticipantBarcode, normalized_count FROM `isb-cgc.tcga_201607_beta.Clinical_data` ', project_id, dialect='standard')\n"
   ]
  },
  {
   "cell_type": "code",
   "execution_count": 36,
   "metadata": {},
   "outputs": [
    {
     "name": "stdout",
     "output_type": "stream",
     "text": [
      "Row(('TCGA-AB-2986', 'LAML', 'TCGA', '233400c5-6a47-40e2-bf2a-8b7fc9df462b', 'AB', 31, None, 25, 'Washington University', None, None, None, None, None, None, 'Dead', -11596, 212, 212, None, 0, None, 'NOT HISPANIC OR LATINO', 'FEMALE', None, None, None, 'No', None, None, None, None, None, None, None, None, None, None, None, None, None, None, None, 2008, None, None, None, None, None, None, None, None, None, 'WHITE', None, None, 'Bone Marrow', None, None, None, None, None, None, None, None, None, None, None, None, None), {'ParticipantBarcode': 0, 'Study': 1, 'Project': 2, 'ParticipantUUID': 3, 'TSSCode': 4, 'age_at_initial_pathologic_diagnosis': 5, 'anatomic_neoplasm_subdivision': 6, 'batch_number': 7, 'bcr': 8, 'clinical_M': 9, 'clinical_N': 10, 'clinical_T': 11, 'clinical_stage': 12, 'colorectal_cancer': 13, 'country': 14, 'vital_status': 15, 'days_to_birth': 16, 'days_to_death': 17, 'days_to_last_known_alive': 18, 'days_to_last_followup': 19, 'days_to_initial_pathologic_diagnosis': 20, 'days_to_submitted_specimen_dx': 21, 'ethnicity': 22, 'gender': 23, 'gleason_score_combined': 24, 'histological_type': 25, 'history_of_colon_polyps': 26, 'history_of_neoadjuvant_treatment': 27, 'hpv_calls': 28, 'hpv_status': 29, 'icd_10': 30, 'icd_o_3_histology': 31, 'icd_o_3_site': 32, 'lymphatic_invasion': 33, 'lymphnodes_examined': 34, 'lymphovascular_invasion_present': 35, 'menopause_status': 36, 'mononucleotide_and_dinucleotide_marker_panel_analysis_status': 37, 'neoplasm_histologic_grade': 38, 'new_tumor_event_after_initial_treatment': 39, 'number_of_lymphnodes_examined': 40, 'number_of_lymphnodes_positive_by_he': 41, 'number_pack_years_smoked': 42, 'year_of_initial_pathologic_diagnosis': 43, 'pathologic_M': 44, 'pathologic_N': 45, 'pathologic_T': 46, 'pathologic_stage': 47, 'person_neoplasm_cancer_status': 48, 'pregnancies': 49, 'primary_neoplasm_melanoma_dx': 50, 'primary_therapy_outcome_success': 51, 'psa_value': 52, 'race': 53, 'residual_tumor': 54, 'tobacco_smoking_history': 55, 'tumor_tissue_site': 56, 'tumor_type': 57, 'weight': 58, 'height': 59, 'BMI': 60, 'age_began_smoking_in_years': 61, 'h_pylori_infection': 62, 'other_dx': 63, 'other_malignancy_anatomic_site': 64, 'other_malignancy_histological_type': 65, 'other_malignancy_malignancy_type': 66, 'stopped_smoking_year': 67, 'venous_invasion': 68, 'year_of_tobacco_smoking_onset': 69})\n",
      "Row(('TCGA-AB-2975', 'LAML', 'TCGA', '93ff9379-d1a1-412f-a776-c53397ba0dc3', 'AB', 54, None, 25, 'Washington University', None, None, None, None, None, None, 'Dead', -20057, None, None, None, 0, None, 'NOT HISPANIC OR LATINO', 'MALE', None, None, None, 'No', None, None, None, None, None, None, None, None, None, None, None, None, None, None, None, 2007, None, None, None, None, None, None, None, None, None, 'BLACK OR AFRICAN AMERICAN', None, None, 'Bone Marrow', None, None, None, None, None, None, None, None, None, None, None, None, None), {'ParticipantBarcode': 0, 'Study': 1, 'Project': 2, 'ParticipantUUID': 3, 'TSSCode': 4, 'age_at_initial_pathologic_diagnosis': 5, 'anatomic_neoplasm_subdivision': 6, 'batch_number': 7, 'bcr': 8, 'clinical_M': 9, 'clinical_N': 10, 'clinical_T': 11, 'clinical_stage': 12, 'colorectal_cancer': 13, 'country': 14, 'vital_status': 15, 'days_to_birth': 16, 'days_to_death': 17, 'days_to_last_known_alive': 18, 'days_to_last_followup': 19, 'days_to_initial_pathologic_diagnosis': 20, 'days_to_submitted_specimen_dx': 21, 'ethnicity': 22, 'gender': 23, 'gleason_score_combined': 24, 'histological_type': 25, 'history_of_colon_polyps': 26, 'history_of_neoadjuvant_treatment': 27, 'hpv_calls': 28, 'hpv_status': 29, 'icd_10': 30, 'icd_o_3_histology': 31, 'icd_o_3_site': 32, 'lymphatic_invasion': 33, 'lymphnodes_examined': 34, 'lymphovascular_invasion_present': 35, 'menopause_status': 36, 'mononucleotide_and_dinucleotide_marker_panel_analysis_status': 37, 'neoplasm_histologic_grade': 38, 'new_tumor_event_after_initial_treatment': 39, 'number_of_lymphnodes_examined': 40, 'number_of_lymphnodes_positive_by_he': 41, 'number_pack_years_smoked': 42, 'year_of_initial_pathologic_diagnosis': 43, 'pathologic_M': 44, 'pathologic_N': 45, 'pathologic_T': 46, 'pathologic_stage': 47, 'person_neoplasm_cancer_status': 48, 'pregnancies': 49, 'primary_neoplasm_melanoma_dx': 50, 'primary_therapy_outcome_success': 51, 'psa_value': 52, 'race': 53, 'residual_tumor': 54, 'tobacco_smoking_history': 55, 'tumor_tissue_site': 56, 'tumor_type': 57, 'weight': 58, 'height': 59, 'BMI': 60, 'age_began_smoking_in_years': 61, 'h_pylori_infection': 62, 'other_dx': 63, 'other_malignancy_anatomic_site': 64, 'other_malignancy_histological_type': 65, 'other_malignancy_malignancy_type': 66, 'stopped_smoking_year': 67, 'venous_invasion': 68, 'year_of_tobacco_smoking_onset': 69})\n",
      "Row(('TCGA-AB-2959', 'LAML', 'TCGA', '31ac4afd-8195-479a-97da-92edaa89a85e', 'AB', 71, None, 25, 'Washington University', None, None, None, None, None, None, 'Dead', -26114, 489, 489, None, 0, None, 'NOT HISPANIC OR LATINO', 'MALE', None, None, None, 'No', None, None, None, None, None, None, None, None, None, None, None, None, None, None, None, 2007, None, None, None, None, None, None, None, None, None, 'WHITE', None, None, 'Bone Marrow', None, None, None, None, None, None, None, None, None, None, None, None, None), {'ParticipantBarcode': 0, 'Study': 1, 'Project': 2, 'ParticipantUUID': 3, 'TSSCode': 4, 'age_at_initial_pathologic_diagnosis': 5, 'anatomic_neoplasm_subdivision': 6, 'batch_number': 7, 'bcr': 8, 'clinical_M': 9, 'clinical_N': 10, 'clinical_T': 11, 'clinical_stage': 12, 'colorectal_cancer': 13, 'country': 14, 'vital_status': 15, 'days_to_birth': 16, 'days_to_death': 17, 'days_to_last_known_alive': 18, 'days_to_last_followup': 19, 'days_to_initial_pathologic_diagnosis': 20, 'days_to_submitted_specimen_dx': 21, 'ethnicity': 22, 'gender': 23, 'gleason_score_combined': 24, 'histological_type': 25, 'history_of_colon_polyps': 26, 'history_of_neoadjuvant_treatment': 27, 'hpv_calls': 28, 'hpv_status': 29, 'icd_10': 30, 'icd_o_3_histology': 31, 'icd_o_3_site': 32, 'lymphatic_invasion': 33, 'lymphnodes_examined': 34, 'lymphovascular_invasion_present': 35, 'menopause_status': 36, 'mononucleotide_and_dinucleotide_marker_panel_analysis_status': 37, 'neoplasm_histologic_grade': 38, 'new_tumor_event_after_initial_treatment': 39, 'number_of_lymphnodes_examined': 40, 'number_of_lymphnodes_positive_by_he': 41, 'number_pack_years_smoked': 42, 'year_of_initial_pathologic_diagnosis': 43, 'pathologic_M': 44, 'pathologic_N': 45, 'pathologic_T': 46, 'pathologic_stage': 47, 'person_neoplasm_cancer_status': 48, 'pregnancies': 49, 'primary_neoplasm_melanoma_dx': 50, 'primary_therapy_outcome_success': 51, 'psa_value': 52, 'race': 53, 'residual_tumor': 54, 'tobacco_smoking_history': 55, 'tumor_tissue_site': 56, 'tumor_type': 57, 'weight': 58, 'height': 59, 'BMI': 60, 'age_began_smoking_in_years': 61, 'h_pylori_infection': 62, 'other_dx': 63, 'other_malignancy_anatomic_site': 64, 'other_malignancy_histological_type': 65, 'other_malignancy_malignancy_type': 66, 'stopped_smoking_year': 67, 'venous_invasion': 68, 'year_of_tobacco_smoking_onset': 69})\n",
      "Row(('TCGA-AB-2840', 'LAML', 'TCGA', '81dabf1f-e666-48c6-a912-2ea5bfecf585', 'AB', 74, None, 25, 'Washington University', None, None, None, None, None, None, 'Dead', -27243, 28, 28, None, 0, None, 'NOT HISPANIC OR LATINO', 'MALE', None, None, None, 'Yes', None, None, None, None, None, None, None, None, None, None, None, None, None, None, None, 2003, None, None, None, None, None, None, None, None, None, 'WHITE', None, None, 'Bone Marrow', None, None, None, None, None, None, None, None, None, None, None, None, None), {'ParticipantBarcode': 0, 'Study': 1, 'Project': 2, 'ParticipantUUID': 3, 'TSSCode': 4, 'age_at_initial_pathologic_diagnosis': 5, 'anatomic_neoplasm_subdivision': 6, 'batch_number': 7, 'bcr': 8, 'clinical_M': 9, 'clinical_N': 10, 'clinical_T': 11, 'clinical_stage': 12, 'colorectal_cancer': 13, 'country': 14, 'vital_status': 15, 'days_to_birth': 16, 'days_to_death': 17, 'days_to_last_known_alive': 18, 'days_to_last_followup': 19, 'days_to_initial_pathologic_diagnosis': 20, 'days_to_submitted_specimen_dx': 21, 'ethnicity': 22, 'gender': 23, 'gleason_score_combined': 24, 'histological_type': 25, 'history_of_colon_polyps': 26, 'history_of_neoadjuvant_treatment': 27, 'hpv_calls': 28, 'hpv_status': 29, 'icd_10': 30, 'icd_o_3_histology': 31, 'icd_o_3_site': 32, 'lymphatic_invasion': 33, 'lymphnodes_examined': 34, 'lymphovascular_invasion_present': 35, 'menopause_status': 36, 'mononucleotide_and_dinucleotide_marker_panel_analysis_status': 37, 'neoplasm_histologic_grade': 38, 'new_tumor_event_after_initial_treatment': 39, 'number_of_lymphnodes_examined': 40, 'number_of_lymphnodes_positive_by_he': 41, 'number_pack_years_smoked': 42, 'year_of_initial_pathologic_diagnosis': 43, 'pathologic_M': 44, 'pathologic_N': 45, 'pathologic_T': 46, 'pathologic_stage': 47, 'person_neoplasm_cancer_status': 48, 'pregnancies': 49, 'primary_neoplasm_melanoma_dx': 50, 'primary_therapy_outcome_success': 51, 'psa_value': 52, 'race': 53, 'residual_tumor': 54, 'tobacco_smoking_history': 55, 'tumor_tissue_site': 56, 'tumor_type': 57, 'weight': 58, 'height': 59, 'BMI': 60, 'age_began_smoking_in_years': 61, 'h_pylori_infection': 62, 'other_dx': 63, 'other_malignancy_anatomic_site': 64, 'other_malignancy_histological_type': 65, 'other_malignancy_malignancy_type': 66, 'stopped_smoking_year': 67, 'venous_invasion': 68, 'year_of_tobacco_smoking_onset': 69})\n",
      "Row(('TCGA-AB-2957', 'LAML', 'TCGA', 'c887d68c-da8e-4f15-a524-3b6674b145ed', 'AB', 31, None, 25, 'Washington University', None, None, None, None, None, None, 'Alive', -11626, None, 609, 609, 0, None, 'NOT HISPANIC OR LATINO', 'MALE', None, None, None, 'Yes', None, None, None, None, None, None, None, None, None, None, None, None, None, None, None, 2007, None, None, None, None, None, None, None, None, None, 'WHITE', None, None, 'Bone Marrow', None, None, None, None, None, None, None, None, None, None, None, None, None), {'ParticipantBarcode': 0, 'Study': 1, 'Project': 2, 'ParticipantUUID': 3, 'TSSCode': 4, 'age_at_initial_pathologic_diagnosis': 5, 'anatomic_neoplasm_subdivision': 6, 'batch_number': 7, 'bcr': 8, 'clinical_M': 9, 'clinical_N': 10, 'clinical_T': 11, 'clinical_stage': 12, 'colorectal_cancer': 13, 'country': 14, 'vital_status': 15, 'days_to_birth': 16, 'days_to_death': 17, 'days_to_last_known_alive': 18, 'days_to_last_followup': 19, 'days_to_initial_pathologic_diagnosis': 20, 'days_to_submitted_specimen_dx': 21, 'ethnicity': 22, 'gender': 23, 'gleason_score_combined': 24, 'histological_type': 25, 'history_of_colon_polyps': 26, 'history_of_neoadjuvant_treatment': 27, 'hpv_calls': 28, 'hpv_status': 29, 'icd_10': 30, 'icd_o_3_histology': 31, 'icd_o_3_site': 32, 'lymphatic_invasion': 33, 'lymphnodes_examined': 34, 'lymphovascular_invasion_present': 35, 'menopause_status': 36, 'mononucleotide_and_dinucleotide_marker_panel_analysis_status': 37, 'neoplasm_histologic_grade': 38, 'new_tumor_event_after_initial_treatment': 39, 'number_of_lymphnodes_examined': 40, 'number_of_lymphnodes_positive_by_he': 41, 'number_pack_years_smoked': 42, 'year_of_initial_pathologic_diagnosis': 43, 'pathologic_M': 44, 'pathologic_N': 45, 'pathologic_T': 46, 'pathologic_stage': 47, 'person_neoplasm_cancer_status': 48, 'pregnancies': 49, 'primary_neoplasm_melanoma_dx': 50, 'primary_therapy_outcome_success': 51, 'psa_value': 52, 'race': 53, 'residual_tumor': 54, 'tobacco_smoking_history': 55, 'tumor_tissue_site': 56, 'tumor_type': 57, 'weight': 58, 'height': 59, 'BMI': 60, 'age_began_smoking_in_years': 61, 'h_pylori_infection': 62, 'other_dx': 63, 'other_malignancy_anatomic_site': 64, 'other_malignancy_histological_type': 65, 'other_malignancy_malignancy_type': 66, 'stopped_smoking_year': 67, 'venous_invasion': 68, 'year_of_tobacco_smoking_onset': 69})\n"
     ]
    }
   ],
   "source": [
    "query = client.query(\"select * from `isb-cgc.tcga_201607_beta.Clinical_data` limit 5\")\n",
    "results = query.result()\n",
    "for row in results:\n",
    "  print(row)\n",
    "\n",
    ">>> import seaborn as sns\n",
    ">>> \n",
    ">>> \n",
    ">>> "
   ]
  },
  {
   "cell_type": "code",
   "execution_count": null,
   "metadata": {},
   "outputs": [],
   "source": []
  }
 ],
 "metadata": {
  "kernelspec": {
   "display_name": "Python 3",
   "language": "python",
   "name": "python3"
  },
  "language_info": {
   "codemirror_mode": {
    "name": "ipython",
    "version": 3
   },
   "file_extension": ".py",
   "mimetype": "text/x-python",
   "name": "python",
   "nbconvert_exporter": "python",
   "pygments_lexer": "ipython3",
   "version": "3.6.4"
  }
 },
 "nbformat": 4,
 "nbformat_minor": 2
}
